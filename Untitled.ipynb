{
 "cells": [
  {
   "cell_type": "code",
   "execution_count": null,
   "id": "2ac6b97a-25e8-4767-918c-70b710f991a8",
   "metadata": {},
   "outputs": [],
   "source": [
    "Git :: code rpository\n",
    "JIRA :: Data repository\n",
    "MANAGER >> main branch \n",
    "subbranches >> \n",
    "subbranch1\n",
    "subbanch 2\n",
    "--- - - - - -\n",
    "subbranch N\n",
    "\n",
    "\n",
    "epic  project plan >>> 3/6/9/12/ months\n",
    "   Sprint1  >> 5/10/15 days (3 weeks)\n",
    "     --stroty 1 >> EDA\n",
    "     --story 2 >> outliers\n",
    "     -- story 3 >> data distribution\n",
    "   Sprint2  >> 5/10/15 days (3 weeks)\n",
    "     --stroty 1 >> EDA\n",
    "     --story 2 >> outliers\n",
    "     -- story 3 >> data distribution\n",
    "   Sprint3  >> 5/10/15 days (3 weeks)\n",
    "     --stroty 1 >> EDA\n",
    "     --story 2 >> outliers\n",
    "     -- story 3 >> data distribution\n",
    "   Sprint4  >> 5/10/15 days (3 weeks)\n",
    "     --stroty 1 >> EDA\n",
    "     --story 2 >> outliers\n",
    "     -- story 3 >> data distribution\n",
    "\n"
   ]
  },
  {
   "cell_type": "code",
   "execution_count": null,
   "id": "780c3115-006e-4d94-ac32-7fe31dbd2a41",
   "metadata": {},
   "outputs": [],
   "source": [
    ".gitignore\n",
    "\n",
    "\n",
    "code/data\n",
    ".c\n",
    ".cpp\n",
    ".java\n",
    ".py\n",
    "\n",
    "data\n",
    ".pdf\n",
    ".jpg\n",
    ".mpg\n",
    ".doc\n",
    ".ppt\n"
   ]
  },
  {
   "cell_type": "markdown",
   "id": "5f929293-a3a3-4635-9968-58a199dde16e",
   "metadata": {},
   "source": [
    "### 1. clone repository"
   ]
  },
  {
   "cell_type": "code",
   "execution_count": null,
   "id": "f31d9e67-7ea6-4560-bb6a-e88abc3e58f6",
   "metadata": {},
   "outputs": [],
   "source": [
    "git clone url"
   ]
  },
  {
   "cell_type": "markdown",
   "id": "faaef4dc-58dd-45cf-a724-a343c169696f",
   "metadata": {},
   "source": [
    "### 2. check status of project"
   ]
  },
  {
   "cell_type": "code",
   "execution_count": null,
   "id": "6ce7d08b-1f60-4551-b7e2-4aff22e6d011",
   "metadata": {},
   "outputs": [],
   "source": [
    "git status"
   ]
  },
  {
   "cell_type": "markdown",
   "id": "3001c176-290f-49e9-8240-357325ce0281",
   "metadata": {},
   "source": [
    "### 3. add your files"
   ]
  },
  {
   "cell_type": "code",
   "execution_count": null,
   "id": "da4068ff-3f43-43b5-9362-9892f7882ebf",
   "metadata": {},
   "outputs": [],
   "source": [
    "1. single file adding\n",
    "git add file_name\n",
    "EX: git add README.md\n",
    "\n",
    "2. multiple files adding\n",
    "git add --all\n",
    "git add ."
   ]
  },
  {
   "cell_type": "markdown",
   "id": "ca9c36b3-40e3-44e1-9ab9-635131140f59",
   "metadata": {},
   "source": [
    "### 4. commit your message"
   ]
  },
  {
   "cell_type": "code",
   "execution_count": null,
   "id": "36db5f82-bc02-40e1-bf10-25e8c428f163",
   "metadata": {},
   "outputs": [],
   "source": [
    "git commit -m \"Added Proejct instructions\""
   ]
  },
  {
   "cell_type": "markdown",
   "id": "0f9b53f8-a185-42cb-8cf6-d1d5208ae381",
   "metadata": {},
   "source": [
    "#### 5. push"
   ]
  }
 ],
 "metadata": {
  "kernelspec": {
   "display_name": "Python [conda env:base] *",
   "language": "python",
   "name": "conda-base-py"
  },
  "language_info": {
   "codemirror_mode": {
    "name": "ipython",
    "version": 3
   },
   "file_extension": ".py",
   "mimetype": "text/x-python",
   "name": "python",
   "nbconvert_exporter": "python",
   "pygments_lexer": "ipython3",
   "version": "3.12.7"
  }
 },
 "nbformat": 4,
 "nbformat_minor": 5
}
